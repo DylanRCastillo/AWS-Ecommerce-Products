{
  "cells": [
    {
      "cell_type": "code",
      "execution_count": 1,
      "metadata": {
        "colab": {
          "base_uri": "https://localhost:8080/"
        },
        "id": "yM7DrwvBbK3P",
        "outputId": "9be2d60f-4c28-43ab-edc8-f8384c669d1c"
      },
      "outputs": [],
      "source": [
        "# Importing dependencies\n",
        "from sqlalchemy import create_engine\n",
        "import pandas as pd\n",
        "import psycopg2"
      ]
    },
    {
      "cell_type": "code",
      "execution_count": 2,
      "metadata": {
        "id": "azRWSQ19jXym"
      },
      "outputs": [],
      "source": [
        "# Authentication\n",
        "host = \"<end-point>\"\n",
        "port = 5432\n",
        "dbname = \"<database name>\"\n",
        "user = \"<username>\"\n",
        "password = \"<password>\""
      ]
    },
    {
      "cell_type": "code",
      "execution_count": 3,
      "metadata": {
        "id": "2YD0eC4opY4-"
      },
      "outputs": [],
      "source": [
        "#Creating an engine\n",
        "engine = create_engine(f'postgresql+psycopg2://{user}:{password}@{host}/{dbname}')\n",
        "conn = engine.connect()"
      ]
    },
    {
      "cell_type": "code",
      "execution_count": 4,
      "metadata": {
        "id": "of7QtKGVmyEN"
      },
      "outputs": [],
      "source": [
        "# Reading query into dataframe for office products nonvine\n",
        "office_products_nonvine = pd.read_sql('''\n",
        "SELECT\n",
        "   r.product_category,\n",
        "   p.product_id,\n",
        "   p.product_title,\n",
        "   v.vine,\n",
        "   COUNT(v.review_id) as total_reviews,\n",
        "   ROUND(AVG(v.star_rating), 3) as avg_star_rating,\n",
        "   ROUND(AVG(v.helpful_votes), 3) as avg_helpful_votes,\n",
        "   ROUND(AVG(v.total_votes), 3) as avg_total_votes \n",
        "FROM\n",
        "   products p \n",
        "   INNER JOIN\n",
        "      review_id_table r \n",
        "      ON p.product_id = r.product_id \n",
        "   RIGHT JOIN\n",
        "      vine_table v \n",
        "      ON v.review_id = r.review_id \n",
        "WHERE\n",
        "   v.vine = 'N' \n",
        "   AND r.product_category = 'Office Products' \n",
        "GROUP BY\n",
        "   r.product_category,\n",
        "   p.product_id,\n",
        "   p.product_title,\n",
        "   v.vine\n",
        "HAVING\n",
        "   COUNT(v.review_id) BETWEEN 15 and 300\n",
        "ORDER BY\n",
        "   total_reviews DESC LIMIT 100;''', conn)"
      ]
    },
    {
      "cell_type": "code",
      "execution_count": 5,
      "metadata": {
        "colab": {
          "base_uri": "https://localhost:8080/",
          "height": 406
        },
        "id": "ry5mHI8_pvkW",
        "outputId": "a4d02792-9aeb-4a26-96ed-cdd2ec09431e"
      },
      "outputs": [
        {
          "data": {
            "text/html": [
              "<div>\n",
              "<style scoped>\n",
              "    .dataframe tbody tr th:only-of-type {\n",
              "        vertical-align: middle;\n",
              "    }\n",
              "\n",
              "    .dataframe tbody tr th {\n",
              "        vertical-align: top;\n",
              "    }\n",
              "\n",
              "    .dataframe thead th {\n",
              "        text-align: right;\n",
              "    }\n",
              "</style>\n",
              "<table border=\"1\" class=\"dataframe\">\n",
              "  <thead>\n",
              "    <tr style=\"text-align: right;\">\n",
              "      <th></th>\n",
              "      <th>product_category</th>\n",
              "      <th>product_id</th>\n",
              "      <th>product_title</th>\n",
              "      <th>vine</th>\n",
              "      <th>total_reviews</th>\n",
              "      <th>avg_star_rating</th>\n",
              "      <th>avg_helpful_votes</th>\n",
              "      <th>avg_total_votes</th>\n",
              "    </tr>\n",
              "  </thead>\n",
              "  <tbody>\n",
              "    <tr>\n",
              "      <th>0</th>\n",
              "      <td>Office Products</td>\n",
              "      <td>1933622741</td>\n",
              "      <td>Mighty Bright 40514 XtraFlex2 Book Light, Green</td>\n",
              "      <td>N</td>\n",
              "      <td>109</td>\n",
              "      <td>4.569</td>\n",
              "      <td>0.367</td>\n",
              "      <td>0.404</td>\n",
              "    </tr>\n",
              "    <tr>\n",
              "      <th>1</th>\n",
              "      <td>Office Products</td>\n",
              "      <td>B000BI92SW</td>\n",
              "      <td>Oxford Portfile Portable File Box, Granite, 11...</td>\n",
              "      <td>N</td>\n",
              "      <td>67</td>\n",
              "      <td>4.134</td>\n",
              "      <td>2.254</td>\n",
              "      <td>2.791</td>\n",
              "    </tr>\n",
              "    <tr>\n",
              "      <th>2</th>\n",
              "      <td>Office Products</td>\n",
              "      <td>B0009HKEXM</td>\n",
              "      <td>GE Grounded Adapter-Spaced Six-Outlet Tap</td>\n",
              "      <td>N</td>\n",
              "      <td>41</td>\n",
              "      <td>4.024</td>\n",
              "      <td>16.780</td>\n",
              "      <td>17.634</td>\n",
              "    </tr>\n",
              "    <tr>\n",
              "      <th>3</th>\n",
              "      <td>Office Products</td>\n",
              "      <td>B00M7TVSG2</td>\n",
              "      <td>TaoTronics Led Desk Lamp</td>\n",
              "      <td>N</td>\n",
              "      <td>40</td>\n",
              "      <td>4.525</td>\n",
              "      <td>7.375</td>\n",
              "      <td>7.900</td>\n",
              "    </tr>\n",
              "    <tr>\n",
              "      <th>4</th>\n",
              "      <td>Office Products</td>\n",
              "      <td>B009QPFBDG</td>\n",
              "      <td>NEW BIG Monster Energy Drink Promo Sign Banner...</td>\n",
              "      <td>N</td>\n",
              "      <td>36</td>\n",
              "      <td>4.472</td>\n",
              "      <td>0.083</td>\n",
              "      <td>0.167</td>\n",
              "    </tr>\n",
              "  </tbody>\n",
              "</table>\n",
              "</div>"
            ],
            "text/plain": [
              "  product_category  product_id  \\\n",
              "0  Office Products  1933622741   \n",
              "1  Office Products  B000BI92SW   \n",
              "2  Office Products  B0009HKEXM   \n",
              "3  Office Products  B00M7TVSG2   \n",
              "4  Office Products  B009QPFBDG   \n",
              "\n",
              "                                       product_title vine  total_reviews  \\\n",
              "0    Mighty Bright 40514 XtraFlex2 Book Light, Green    N            109   \n",
              "1  Oxford Portfile Portable File Box, Granite, 11...    N             67   \n",
              "2          GE Grounded Adapter-Spaced Six-Outlet Tap    N             41   \n",
              "3                           TaoTronics Led Desk Lamp    N             40   \n",
              "4  NEW BIG Monster Energy Drink Promo Sign Banner...    N             36   \n",
              "\n",
              "   avg_star_rating  avg_helpful_votes  avg_total_votes  \n",
              "0            4.569              0.367            0.404  \n",
              "1            4.134              2.254            2.791  \n",
              "2            4.024             16.780           17.634  \n",
              "3            4.525              7.375            7.900  \n",
              "4            4.472              0.083            0.167  "
            ]
          },
          "execution_count": 5,
          "metadata": {},
          "output_type": "execute_result"
        }
      ],
      "source": [
        "# Displaying first 5\n",
        "office_products_nonvine.head()"
      ]
    },
    {
      "cell_type": "code",
      "execution_count": 6,
      "metadata": {
        "id": "iQRV9C4VAzzE"
      },
      "outputs": [],
      "source": [
        "# Reading query into dataframe for office products vine\n",
        "office_products_vine = pd.read_sql('''\n",
        "SELECT\n",
        "   r.product_category,\n",
        "   p.product_id,\n",
        "   p.product_title,\n",
        "   v.vine,\n",
        "   COUNT(v.review_id) as total_reviews,\n",
        "   ROUND(AVG(v.star_rating), 3) as avg_star_rating,\n",
        "   ROUND(AVG(v.helpful_votes), 3) as avg_helpful_votes,\n",
        "   ROUND(AVG(v.total_votes), 3) as avg_total_votes \n",
        "FROM\n",
        "   products p \n",
        "   INNER JOIN\n",
        "      review_id_table r \n",
        "      ON p.product_id = r.product_id \n",
        "   RIGHT JOIN\n",
        "      vine_table v \n",
        "      ON v.review_id = r.review_id \n",
        "WHERE\n",
        "   v.vine = 'Y' \n",
        "   AND r.product_category = 'Office Products' \n",
        "GROUP BY\n",
        "   r.product_category,\n",
        "   p.product_id,\n",
        "   p.product_title,\n",
        "   v.vine \n",
        "ORDER BY\n",
        "   total_reviews DESC LIMIT 100;''', conn)"
      ]
    },
    {
      "cell_type": "code",
      "execution_count": 7,
      "metadata": {
        "colab": {
          "base_uri": "https://localhost:8080/",
          "height": 49
        },
        "id": "w6rX9hai9_vV",
        "outputId": "e4a05f29-5373-4e4c-abcb-4cde60ca9608"
      },
      "outputs": [
        {
          "data": {
            "text/html": [
              "<div>\n",
              "<style scoped>\n",
              "    .dataframe tbody tr th:only-of-type {\n",
              "        vertical-align: middle;\n",
              "    }\n",
              "\n",
              "    .dataframe tbody tr th {\n",
              "        vertical-align: top;\n",
              "    }\n",
              "\n",
              "    .dataframe thead th {\n",
              "        text-align: right;\n",
              "    }\n",
              "</style>\n",
              "<table border=\"1\" class=\"dataframe\">\n",
              "  <thead>\n",
              "    <tr style=\"text-align: right;\">\n",
              "      <th></th>\n",
              "      <th>product_category</th>\n",
              "      <th>product_id</th>\n",
              "      <th>product_title</th>\n",
              "      <th>vine</th>\n",
              "      <th>total_reviews</th>\n",
              "      <th>avg_star_rating</th>\n",
              "      <th>avg_helpful_votes</th>\n",
              "      <th>avg_total_votes</th>\n",
              "    </tr>\n",
              "  </thead>\n",
              "  <tbody>\n",
              "  </tbody>\n",
              "</table>\n",
              "</div>"
            ],
            "text/plain": [
              "Empty DataFrame\n",
              "Columns: [product_category, product_id, product_title, vine, total_reviews, avg_star_rating, avg_helpful_votes, avg_total_votes]\n",
              "Index: []"
            ]
          },
          "execution_count": 7,
          "metadata": {},
          "output_type": "execute_result"
        }
      ],
      "source": [
        "# No office_products_vine that fit criteria of client\n",
        "office_products_vine.head()"
      ]
    },
    {
      "cell_type": "code",
      "execution_count": 8,
      "metadata": {
        "id": "GM5gRdUQ8o6a"
      },
      "outputs": [],
      "source": [
        "# Reading query into dataframe for home improvement nonvine\n",
        "home_improvement_nonvine = pd.read_sql('''\n",
        "SELECT\n",
        "   r.product_category,\n",
        "   p.product_id,\n",
        "   p.product_title,\n",
        "   v.vine,\n",
        "   COUNT(v.review_id) as total_reviews,\n",
        "   ROUND(AVG(v.star_rating), 3) as avg_star_rating,\n",
        "   ROUND(AVG(v.helpful_votes), 3) as avg_helpful_votes,\n",
        "   ROUND(AVG(v.total_votes), 3) as avg_total_votes \n",
        "FROM\n",
        "   products p \n",
        "   INNER JOIN\n",
        "      review_id_table r \n",
        "      ON p.product_id = r.product_id \n",
        "   RIGHT JOIN\n",
        "      vine_table v \n",
        "      ON v.review_id = r.review_id \n",
        "WHERE\n",
        "   v.vine = 'N' \n",
        "   AND r.product_category = 'Home Improvement' \n",
        "GROUP BY\n",
        "   r.product_category,\n",
        "   p.product_id,\n",
        "   p.product_title,\n",
        "   v.vine\n",
        "HAVING\n",
        "   COUNT(v.review_id) BETWEEN 15 and 300 \n",
        "ORDER BY\n",
        "   total_reviews DESC LIMIT 100;''', conn)"
      ]
    },
    {
      "cell_type": "code",
      "execution_count": 9,
      "metadata": {
        "colab": {
          "base_uri": "https://localhost:8080/",
          "height": 406
        },
        "id": "6FFsztxv9STj",
        "outputId": "776a0a76-fea2-409d-d0a6-85067047ab9f"
      },
      "outputs": [
        {
          "data": {
            "text/html": [
              "<div>\n",
              "<style scoped>\n",
              "    .dataframe tbody tr th:only-of-type {\n",
              "        vertical-align: middle;\n",
              "    }\n",
              "\n",
              "    .dataframe tbody tr th {\n",
              "        vertical-align: top;\n",
              "    }\n",
              "\n",
              "    .dataframe thead th {\n",
              "        text-align: right;\n",
              "    }\n",
              "</style>\n",
              "<table border=\"1\" class=\"dataframe\">\n",
              "  <thead>\n",
              "    <tr style=\"text-align: right;\">\n",
              "      <th></th>\n",
              "      <th>product_category</th>\n",
              "      <th>product_id</th>\n",
              "      <th>product_title</th>\n",
              "      <th>vine</th>\n",
              "      <th>total_reviews</th>\n",
              "      <th>avg_star_rating</th>\n",
              "      <th>avg_helpful_votes</th>\n",
              "      <th>avg_total_votes</th>\n",
              "    </tr>\n",
              "  </thead>\n",
              "  <tbody>\n",
              "    <tr>\n",
              "      <th>0</th>\n",
              "      <td>Home Improvement</td>\n",
              "      <td>B000CSY1JG</td>\n",
              "      <td>2 pack Linear 3089 Gate Opener or Garage Door ...</td>\n",
              "      <td>N</td>\n",
              "      <td>300</td>\n",
              "      <td>4.427</td>\n",
              "      <td>0.277</td>\n",
              "      <td>0.377</td>\n",
              "    </tr>\n",
              "    <tr>\n",
              "      <th>1</th>\n",
              "      <td>Home Improvement</td>\n",
              "      <td>B00CME2MZS</td>\n",
              "      <td>Ivation 6 LED Automatic Motion-sensing Night L...</td>\n",
              "      <td>N</td>\n",
              "      <td>300</td>\n",
              "      <td>4.437</td>\n",
              "      <td>0.997</td>\n",
              "      <td>1.157</td>\n",
              "    </tr>\n",
              "    <tr>\n",
              "      <th>2</th>\n",
              "      <td>Home Improvement</td>\n",
              "      <td>B004INTGKK</td>\n",
              "      <td>Brita On Tap Filtration System</td>\n",
              "      <td>N</td>\n",
              "      <td>300</td>\n",
              "      <td>3.057</td>\n",
              "      <td>2.810</td>\n",
              "      <td>3.080</td>\n",
              "    </tr>\n",
              "    <tr>\n",
              "      <th>3</th>\n",
              "      <td>Home Improvement</td>\n",
              "      <td>B004BIHF50</td>\n",
              "      <td>Drive Gear for Sears Crafsman Liftmaster Chamb...</td>\n",
              "      <td>N</td>\n",
              "      <td>300</td>\n",
              "      <td>4.680</td>\n",
              "      <td>0.483</td>\n",
              "      <td>0.580</td>\n",
              "    </tr>\n",
              "    <tr>\n",
              "      <th>4</th>\n",
              "      <td>Home Improvement</td>\n",
              "      <td>B0015C4YFO</td>\n",
              "      <td>Elongated Molded Wood Toilet Seat with Easy Cl...</td>\n",
              "      <td>N</td>\n",
              "      <td>300</td>\n",
              "      <td>4.313</td>\n",
              "      <td>1.540</td>\n",
              "      <td>1.723</td>\n",
              "    </tr>\n",
              "  </tbody>\n",
              "</table>\n",
              "</div>"
            ],
            "text/plain": [
              "   product_category  product_id  \\\n",
              "0  Home Improvement  B000CSY1JG   \n",
              "1  Home Improvement  B00CME2MZS   \n",
              "2  Home Improvement  B004INTGKK   \n",
              "3  Home Improvement  B004BIHF50   \n",
              "4  Home Improvement  B0015C4YFO   \n",
              "\n",
              "                                       product_title vine  total_reviews  \\\n",
              "0  2 pack Linear 3089 Gate Opener or Garage Door ...    N            300   \n",
              "1  Ivation 6 LED Automatic Motion-sensing Night L...    N            300   \n",
              "2                     Brita On Tap Filtration System    N            300   \n",
              "3  Drive Gear for Sears Crafsman Liftmaster Chamb...    N            300   \n",
              "4  Elongated Molded Wood Toilet Seat with Easy Cl...    N            300   \n",
              "\n",
              "   avg_star_rating  avg_helpful_votes  avg_total_votes  \n",
              "0            4.427              0.277            0.377  \n",
              "1            4.437              0.997            1.157  \n",
              "2            3.057              2.810            3.080  \n",
              "3            4.680              0.483            0.580  \n",
              "4            4.313              1.540            1.723  "
            ]
          },
          "execution_count": 9,
          "metadata": {},
          "output_type": "execute_result"
        }
      ],
      "source": [
        "\n",
        "home_improvement_nonvine.head()"
      ]
    },
    {
      "cell_type": "code",
      "execution_count": 10,
      "metadata": {
        "id": "WM1SZ2kq9UBi"
      },
      "outputs": [],
      "source": [
        "# Reading query into dataframe for home improvement vine\n",
        "home_improvement_vine = pd.read_sql('''\n",
        "SELECT\n",
        "   r.product_category,\n",
        "   p.product_id,\n",
        "   p.product_title,\n",
        "   v.vine,\n",
        "   COUNT(v.review_id) as total_reviews,\n",
        "   ROUND(AVG(v.star_rating), 3) as avg_star_rating,\n",
        "   ROUND(AVG(v.helpful_votes), 3) as avg_helpful_votes,\n",
        "   ROUND(AVG(v.total_votes), 3) as avg_total_votes \n",
        "FROM\n",
        "   products p \n",
        "   INNER JOIN\n",
        "      review_id_table r \n",
        "      ON p.product_id = r.product_id \n",
        "   RIGHT JOIN\n",
        "      vine_table v \n",
        "      ON v.review_id = r.review_id \n",
        "WHERE\n",
        "   v.vine = 'Y' \n",
        "   AND r.product_category = 'Home Improvement' \n",
        "GROUP BY\n",
        "   r.product_category,\n",
        "   p.product_id,\n",
        "   p.product_title,\n",
        "   v.vine\n",
        "HAVING\n",
        "   COUNT(v.review_id) BETWEEN 15 and 300  \n",
        "ORDER BY\n",
        "   total_reviews DESC LIMIT 100;\n",
        "''', conn)"
      ]
    },
    {
      "cell_type": "code",
      "execution_count": 11,
      "metadata": {
        "colab": {
          "base_uri": "https://localhost:8080/",
          "height": 441
        },
        "id": "wf8om-L395Yq",
        "outputId": "3cff3725-dfc7-45da-a6d0-d6064c826121"
      },
      "outputs": [
        {
          "data": {
            "text/html": [
              "<div>\n",
              "<style scoped>\n",
              "    .dataframe tbody tr th:only-of-type {\n",
              "        vertical-align: middle;\n",
              "    }\n",
              "\n",
              "    .dataframe tbody tr th {\n",
              "        vertical-align: top;\n",
              "    }\n",
              "\n",
              "    .dataframe thead th {\n",
              "        text-align: right;\n",
              "    }\n",
              "</style>\n",
              "<table border=\"1\" class=\"dataframe\">\n",
              "  <thead>\n",
              "    <tr style=\"text-align: right;\">\n",
              "      <th></th>\n",
              "      <th>product_category</th>\n",
              "      <th>product_id</th>\n",
              "      <th>product_title</th>\n",
              "      <th>vine</th>\n",
              "      <th>total_reviews</th>\n",
              "      <th>avg_star_rating</th>\n",
              "      <th>avg_helpful_votes</th>\n",
              "      <th>avg_total_votes</th>\n",
              "    </tr>\n",
              "  </thead>\n",
              "  <tbody>\n",
              "    <tr>\n",
              "      <th>0</th>\n",
              "      <td>Home Improvement</td>\n",
              "      <td>B0000CFLYU</td>\n",
              "      <td>Command Designer Hooks</td>\n",
              "      <td>Y</td>\n",
              "      <td>56</td>\n",
              "      <td>4.643</td>\n",
              "      <td>0.161</td>\n",
              "      <td>0.196</td>\n",
              "    </tr>\n",
              "    <tr>\n",
              "      <th>1</th>\n",
              "      <td>Home Improvement</td>\n",
              "      <td>B00APB0IX8</td>\n",
              "      <td>Toyota Tsusho 4TTO18174 8.5-watt LED Light Bulb</td>\n",
              "      <td>Y</td>\n",
              "      <td>31</td>\n",
              "      <td>4.387</td>\n",
              "      <td>0.129</td>\n",
              "      <td>0.355</td>\n",
              "    </tr>\n",
              "    <tr>\n",
              "      <th>2</th>\n",
              "      <td>Home Improvement</td>\n",
              "      <td>B009XELXDW</td>\n",
              "      <td>OttLite L24554 Task Plus High-Definition 24-Wa...</td>\n",
              "      <td>Y</td>\n",
              "      <td>31</td>\n",
              "      <td>4.355</td>\n",
              "      <td>3.452</td>\n",
              "      <td>3.839</td>\n",
              "    </tr>\n",
              "    <tr>\n",
              "      <th>3</th>\n",
              "      <td>Home Improvement</td>\n",
              "      <td>B00CIQW1YC</td>\n",
              "      <td>KRUD KUTTER CR01/2 Carpet Cleaner/Stain Remover</td>\n",
              "      <td>Y</td>\n",
              "      <td>31</td>\n",
              "      <td>4.484</td>\n",
              "      <td>0.710</td>\n",
              "      <td>0.935</td>\n",
              "    </tr>\n",
              "    <tr>\n",
              "      <th>4</th>\n",
              "      <td>Home Improvement</td>\n",
              "      <td>B00APL6Q0W</td>\n",
              "      <td>Chamberlain WD832KEV Garage Door Opener, ½ HP,...</td>\n",
              "      <td>Y</td>\n",
              "      <td>31</td>\n",
              "      <td>4.710</td>\n",
              "      <td>0.129</td>\n",
              "      <td>0.419</td>\n",
              "    </tr>\n",
              "  </tbody>\n",
              "</table>\n",
              "</div>"
            ],
            "text/plain": [
              "   product_category  product_id  \\\n",
              "0  Home Improvement  B0000CFLYU   \n",
              "1  Home Improvement  B00APB0IX8   \n",
              "2  Home Improvement  B009XELXDW   \n",
              "3  Home Improvement  B00CIQW1YC   \n",
              "4  Home Improvement  B00APL6Q0W   \n",
              "\n",
              "                                       product_title vine  total_reviews  \\\n",
              "0                             Command Designer Hooks    Y             56   \n",
              "1    Toyota Tsusho 4TTO18174 8.5-watt LED Light Bulb    Y             31   \n",
              "2  OttLite L24554 Task Plus High-Definition 24-Wa...    Y             31   \n",
              "3    KRUD KUTTER CR01/2 Carpet Cleaner/Stain Remover    Y             31   \n",
              "4  Chamberlain WD832KEV Garage Door Opener, ½ HP,...    Y             31   \n",
              "\n",
              "   avg_star_rating  avg_helpful_votes  avg_total_votes  \n",
              "0            4.643              0.161            0.196  \n",
              "1            4.387              0.129            0.355  \n",
              "2            4.355              3.452            3.839  \n",
              "3            4.484              0.710            0.935  \n",
              "4            4.710              0.129            0.419  "
            ]
          },
          "execution_count": 11,
          "metadata": {},
          "output_type": "execute_result"
        }
      ],
      "source": [
        "# Display first 5\n",
        "home_improvement_vine.head()"
      ]
    },
    {
      "cell_type": "code",
      "execution_count": 12,
      "metadata": {
        "id": "6QluOjka99bC"
      },
      "outputs": [],
      "source": [
        "# Reading query into dataframe for lawn and garden nonvine\n",
        "lawn_and_garden_nonvine = pd.read_sql('''\n",
        "SELECT\n",
        "   r.product_category,\n",
        "   p.product_id,\n",
        "   p.product_title,\n",
        "   v.vine,\n",
        "   COUNT(v.review_id) as total_reviews,\n",
        "   ROUND(AVG(v.star_rating), 3) as avg_star_rating,\n",
        "   ROUND(AVG(v.helpful_votes), 3) as avg_helpful_votes,\n",
        "   ROUND(AVG(v.total_votes), 3) as avg_total_votes \n",
        "FROM\n",
        "   products p \n",
        "   INNER JOIN\n",
        "      review_id_table r \n",
        "      ON p.product_id = r.product_id \n",
        "   RIGHT JOIN\n",
        "      vine_table v \n",
        "      ON v.review_id = r.review_id \n",
        "WHERE\n",
        "   v.vine = 'N' \n",
        "   AND r.product_category = 'Lawn and Garden' \n",
        "GROUP BY\n",
        "   r.product_category,\n",
        "   p.product_id,\n",
        "   p.product_title,\n",
        "   v.vine\n",
        "HAVING\n",
        "   COUNT(v.review_id) BETWEEN 15 and 300 \n",
        "ORDER BY\n",
        "   total_reviews DESC LIMIT 100;''', conn)"
      ]
    },
    {
      "cell_type": "code",
      "execution_count": 13,
      "metadata": {
        "colab": {
          "base_uri": "https://localhost:8080/",
          "height": 424
        },
        "id": "TR9NJIIfAAma",
        "outputId": "c12355fe-f8f0-48aa-ab21-866f53b45302"
      },
      "outputs": [
        {
          "data": {
            "text/html": [
              "<div>\n",
              "<style scoped>\n",
              "    .dataframe tbody tr th:only-of-type {\n",
              "        vertical-align: middle;\n",
              "    }\n",
              "\n",
              "    .dataframe tbody tr th {\n",
              "        vertical-align: top;\n",
              "    }\n",
              "\n",
              "    .dataframe thead th {\n",
              "        text-align: right;\n",
              "    }\n",
              "</style>\n",
              "<table border=\"1\" class=\"dataframe\">\n",
              "  <thead>\n",
              "    <tr style=\"text-align: right;\">\n",
              "      <th></th>\n",
              "      <th>product_category</th>\n",
              "      <th>product_id</th>\n",
              "      <th>product_title</th>\n",
              "      <th>vine</th>\n",
              "      <th>total_reviews</th>\n",
              "      <th>avg_star_rating</th>\n",
              "      <th>avg_helpful_votes</th>\n",
              "      <th>avg_total_votes</th>\n",
              "    </tr>\n",
              "  </thead>\n",
              "  <tbody>\n",
              "    <tr>\n",
              "      <th>0</th>\n",
              "      <td>Lawn and Garden</td>\n",
              "      <td>B00K0W30UU</td>\n",
              "      <td>ADX LED-STRIP-NA Strip 16.4FT SMD Water-Resist...</td>\n",
              "      <td>N</td>\n",
              "      <td>289</td>\n",
              "      <td>3.221</td>\n",
              "      <td>0.401</td>\n",
              "      <td>0.519</td>\n",
              "    </tr>\n",
              "    <tr>\n",
              "      <th>1</th>\n",
              "      <td>Lawn and Garden</td>\n",
              "      <td>B0019LY8QG</td>\n",
              "      <td>PIC Wasp Trap</td>\n",
              "      <td>N</td>\n",
              "      <td>280</td>\n",
              "      <td>3.400</td>\n",
              "      <td>2.464</td>\n",
              "      <td>2.796</td>\n",
              "    </tr>\n",
              "    <tr>\n",
              "      <th>2</th>\n",
              "      <td>Lawn and Garden</td>\n",
              "      <td>B009AMHW5U</td>\n",
              "      <td>Innoo Tech White Solar String Lights Outdoor S...</td>\n",
              "      <td>N</td>\n",
              "      <td>252</td>\n",
              "      <td>3.476</td>\n",
              "      <td>1.250</td>\n",
              "      <td>1.571</td>\n",
              "    </tr>\n",
              "    <tr>\n",
              "      <th>3</th>\n",
              "      <td>Lawn and Garden</td>\n",
              "      <td>B00M0FYF7C</td>\n",
              "      <td>Signstek 10 LED Wireless Light-operated Motion...</td>\n",
              "      <td>N</td>\n",
              "      <td>116</td>\n",
              "      <td>4.129</td>\n",
              "      <td>1.862</td>\n",
              "      <td>2.069</td>\n",
              "    </tr>\n",
              "    <tr>\n",
              "      <th>4</th>\n",
              "      <td>Lawn and Garden</td>\n",
              "      <td>B00WUD4EQG</td>\n",
              "      <td>InnoGear Upgraded Solar Lights 2-in-1 Waterpro...</td>\n",
              "      <td>N</td>\n",
              "      <td>96</td>\n",
              "      <td>4.229</td>\n",
              "      <td>0.458</td>\n",
              "      <td>0.708</td>\n",
              "    </tr>\n",
              "  </tbody>\n",
              "</table>\n",
              "</div>"
            ],
            "text/plain": [
              "  product_category  product_id  \\\n",
              "0  Lawn and Garden  B00K0W30UU   \n",
              "1  Lawn and Garden  B0019LY8QG   \n",
              "2  Lawn and Garden  B009AMHW5U   \n",
              "3  Lawn and Garden  B00M0FYF7C   \n",
              "4  Lawn and Garden  B00WUD4EQG   \n",
              "\n",
              "                                       product_title vine  total_reviews  \\\n",
              "0  ADX LED-STRIP-NA Strip 16.4FT SMD Water-Resist...    N            289   \n",
              "1                                      PIC Wasp Trap    N            280   \n",
              "2  Innoo Tech White Solar String Lights Outdoor S...    N            252   \n",
              "3  Signstek 10 LED Wireless Light-operated Motion...    N            116   \n",
              "4  InnoGear Upgraded Solar Lights 2-in-1 Waterpro...    N             96   \n",
              "\n",
              "   avg_star_rating  avg_helpful_votes  avg_total_votes  \n",
              "0            3.221              0.401            0.519  \n",
              "1            3.400              2.464            2.796  \n",
              "2            3.476              1.250            1.571  \n",
              "3            4.129              1.862            2.069  \n",
              "4            4.229              0.458            0.708  "
            ]
          },
          "execution_count": 13,
          "metadata": {},
          "output_type": "execute_result"
        }
      ],
      "source": [
        "# Displaying first 5\n",
        "lawn_and_garden_nonvine.head()"
      ]
    },
    {
      "cell_type": "code",
      "execution_count": 14,
      "metadata": {
        "id": "IpB3sRPaABzy"
      },
      "outputs": [],
      "source": [
        "# Reading query into dataframe for lawn and garden vine\n",
        "lawn_and_garden_vine = pd.read_sql('''\n",
        "SELECT\n",
        "   r.product_category,\n",
        "   p.product_id,\n",
        "   p.product_title,\n",
        "   v.vine,\n",
        "   COUNT(v.review_id) as total_reviews,\n",
        "   ROUND(AVG(v.star_rating), 3) as avg_star_rating,\n",
        "   ROUND(AVG(v.helpful_votes), 3) as avg_helpful_votes,\n",
        "   ROUND(AVG(v.total_votes), 3) as avg_total_votes \n",
        "FROM\n",
        "   products p \n",
        "   INNER JOIN\n",
        "      review_id_table r \n",
        "      ON p.product_id = r.product_id \n",
        "   RIGHT JOIN\n",
        "      vine_table v \n",
        "      ON v.review_id = r.review_id \n",
        "WHERE\n",
        "   v.vine = 'Y' \n",
        "   AND r.product_category = 'Lawn and Garden' \n",
        "GROUP BY\n",
        "   r.product_category,\n",
        "   p.product_id,\n",
        "   p.product_title,\n",
        "   v.vine\n",
        "HAVING\n",
        "   COUNT(v.review_id) BETWEEN 15 and 300 \n",
        "ORDER BY\n",
        "   total_reviews DESC LIMIT 100;''', conn)"
      ]
    },
    {
      "cell_type": "code",
      "execution_count": 15,
      "metadata": {
        "colab": {
          "base_uri": "https://localhost:8080/",
          "height": 49
        },
        "id": "-hrP9RG4AO9K",
        "outputId": "ac95da27-428f-42a2-cf94-92007b21e3a4"
      },
      "outputs": [
        {
          "data": {
            "text/html": [
              "<div>\n",
              "<style scoped>\n",
              "    .dataframe tbody tr th:only-of-type {\n",
              "        vertical-align: middle;\n",
              "    }\n",
              "\n",
              "    .dataframe tbody tr th {\n",
              "        vertical-align: top;\n",
              "    }\n",
              "\n",
              "    .dataframe thead th {\n",
              "        text-align: right;\n",
              "    }\n",
              "</style>\n",
              "<table border=\"1\" class=\"dataframe\">\n",
              "  <thead>\n",
              "    <tr style=\"text-align: right;\">\n",
              "      <th></th>\n",
              "      <th>product_category</th>\n",
              "      <th>product_id</th>\n",
              "      <th>product_title</th>\n",
              "      <th>vine</th>\n",
              "      <th>total_reviews</th>\n",
              "      <th>avg_star_rating</th>\n",
              "      <th>avg_helpful_votes</th>\n",
              "      <th>avg_total_votes</th>\n",
              "    </tr>\n",
              "  </thead>\n",
              "  <tbody>\n",
              "  </tbody>\n",
              "</table>\n",
              "</div>"
            ],
            "text/plain": [
              "Empty DataFrame\n",
              "Columns: [product_category, product_id, product_title, vine, total_reviews, avg_star_rating, avg_helpful_votes, avg_total_votes]\n",
              "Index: []"
            ]
          },
          "execution_count": 15,
          "metadata": {},
          "output_type": "execute_result"
        }
      ],
      "source": [
        "# No lawn_and_garden_vine that fit criteria of client\n",
        "lawn_and_garden_vine.head()"
      ]
    },
    {
      "cell_type": "code",
      "execution_count": 16,
      "metadata": {
        "id": "qVExbtlkATdz"
      },
      "outputs": [],
      "source": [
        "# Unioning non-vine into a single dataframe\n",
        "non_vine_df = pd.concat([office_products_nonvine, home_improvement_nonvine, lawn_and_garden_nonvine])"
      ]
    },
    {
      "cell_type": "code",
      "execution_count": 17,
      "metadata": {
        "colab": {
          "base_uri": "https://localhost:8080/"
        },
        "id": "xTD1YmyMB0Oi",
        "outputId": "3d0aa904-e079-45a1-a423-ba145f85004e"
      },
      "outputs": [
        {
          "name": "stdout",
          "output_type": "stream",
          "text": [
            "<class 'pandas.core.frame.DataFrame'>\n",
            "Int64Index: 129 entries, 0 to 20\n",
            "Data columns (total 8 columns):\n",
            " #   Column             Non-Null Count  Dtype  \n",
            "---  ------             --------------  -----  \n",
            " 0   product_category   129 non-null    object \n",
            " 1   product_id         129 non-null    object \n",
            " 2   product_title      129 non-null    object \n",
            " 3   vine               129 non-null    object \n",
            " 4   total_reviews      129 non-null    int64  \n",
            " 5   avg_star_rating    129 non-null    float64\n",
            " 6   avg_helpful_votes  129 non-null    float64\n",
            " 7   avg_total_votes    129 non-null    float64\n",
            "dtypes: float64(3), int64(1), object(4)\n",
            "memory usage: 9.1+ KB\n"
          ]
        }
      ],
      "source": [
        "# Displaying top 5\n",
        "non_vine_df.head()\n",
        "non_vine_df.info()"
      ]
    },
    {
      "cell_type": "code",
      "execution_count": 18,
      "metadata": {
        "id": "VtgtWTVqB15j"
      },
      "outputs": [],
      "source": [
        "# Unioning vine into a single dataframe\n",
        "vine_df = pd.concat([office_products_vine, home_improvement_vine, lawn_and_garden_vine])"
      ]
    },
    {
      "cell_type": "code",
      "execution_count": 19,
      "metadata": {
        "colab": {
          "base_uri": "https://localhost:8080/"
        },
        "id": "0kmBxtRlB_-y",
        "outputId": "b17acf1c-ce20-4e10-defc-f306a1e16fb8"
      },
      "outputs": [
        {
          "name": "stdout",
          "output_type": "stream",
          "text": [
            "<class 'pandas.core.frame.DataFrame'>\n",
            "Int64Index: 100 entries, 0 to 99\n",
            "Data columns (total 8 columns):\n",
            " #   Column             Non-Null Count  Dtype \n",
            "---  ------             --------------  ----- \n",
            " 0   product_category   100 non-null    object\n",
            " 1   product_id         100 non-null    object\n",
            " 2   product_title      100 non-null    object\n",
            " 3   vine               100 non-null    object\n",
            " 4   total_reviews      100 non-null    object\n",
            " 5   avg_star_rating    100 non-null    object\n",
            " 6   avg_helpful_votes  100 non-null    object\n",
            " 7   avg_total_votes    100 non-null    object\n",
            "dtypes: object(8)\n",
            "memory usage: 7.0+ KB\n"
          ]
        }
      ],
      "source": [
        "# Displaying top 5\n",
        "vine_df.head()\n",
        "vine_df.info()"
      ]
    },
    {
      "cell_type": "code",
      "execution_count": 21,
      "metadata": {
        "colab": {
          "base_uri": "https://localhost:8080/",
          "height": 397
        },
        "id": "HrXIkQ7mCBLp",
        "outputId": "732c9e52-729c-4580-9024-25d02b8c4592"
      },
      "outputs": [],
      "source": [
        "import os\n",
        "filepath = os.path.join(\"C:\", \"Users\", \"Dylan2\",\"Desktop\",\"Amazon Products\")\n",
        "\n",
        "# exporting non_vine_df into csv\n",
        "non_vine_df.to_csv(filepath,\"non_vine.csv\")\n",
        "\n",
        "# explorting vine_df into csv\n",
        "vine_df.to_csv(filepath,\"vine.csv\")"
      ]
    },
    {
      "cell_type": "code",
      "execution_count": null,
      "metadata": {
        "id": "ORfeAUMVDyVD"
      },
      "outputs": [],
      "source": []
    }
  ],
  "metadata": {
    "colab": {
      "collapsed_sections": [],
      "name": "queries.ipynb",
      "provenance": []
    },
    "kernelspec": {
      "display_name": "Python 3",
      "name": "python3"
    },
    "language_info": {
      "codemirror_mode": {
        "name": "ipython",
        "version": 3
      },
      "file_extension": ".py",
      "mimetype": "text/x-python",
      "name": "python",
      "nbconvert_exporter": "python",
      "pygments_lexer": "ipython3",
      "version": "3.9.7"
    }
  },
  "nbformat": 4,
  "nbformat_minor": 0
}
